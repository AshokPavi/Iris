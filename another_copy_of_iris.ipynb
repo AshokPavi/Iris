{
  "nbformat": 4,
  "nbformat_minor": 0,
  "metadata": {
    "colab": {
      "provenance": [],
      "authorship_tag": "ABX9TyPkvIzXMgSDQhJPj7nnm6YK",
      "include_colab_link": true
    },
    "kernelspec": {
      "name": "python3",
      "display_name": "Python 3"
    },
    "language_info": {
      "name": "python"
    }
  },
  "cells": [
    {
      "cell_type": "markdown",
      "metadata": {
        "id": "view-in-github",
        "colab_type": "text"
      },
      "source": [
        "<a href=\"https://colab.research.google.com/github/AshokPavi/Iris/blob/main/another_copy_of_iris.ipynb\" target=\"_parent\"><img src=\"https://colab.research.google.com/assets/colab-badge.svg\" alt=\"Open In Colab\"/></a>"
      ]
    },
    {
      "cell_type": "code",
      "execution_count": null,
      "metadata": {
        "id": "lWPjBDgLsz2L"
      },
      "outputs": [],
      "source": [
        "import numpy as np\n",
        "import pandas as pd\n",
        "import tensorflow as tf\n",
        "from sklearn.model_selection import train_test_split\n",
        "from sklearn.preprocessing import LabelEncoder, StandardScaler\n",
        "from sklearn.datasets import load_iris"
      ]
    },
    {
      "cell_type": "code",
      "source": [
        "iris = load_iris()\n",
        "X = iris.data\n",
        "y = iris.target"
      ],
      "metadata": {
        "id": "JG8k_v7W0DLE"
      },
      "execution_count": null,
      "outputs": []
    },
    {
      "cell_type": "code",
      "source": [
        "# Split the dataset into training and testing sets\n",
        "X_train, X_test, y_train, y_test = train_test_split(X, y, test_size=0.2, random_state=42)\n",
        "\n",
        "# Scale the features\n",
        "scaler = StandardScaler()\n",
        "X_train_scaled = scaler.fit_transform(X_train)\n",
        "X_test_scaled = scaler.transform(X_test)\n",
        "\n",
        "# Encode the target labels\n",
        "encoder = LabelEncoder()\n",
        "y_train_encoded = encoder.fit_transform(y_train)\n",
        "y_test_encoded = encoder.transform(y_test)\n"
      ],
      "metadata": {
        "id": "yy6w2qrV0Ubp"
      },
      "execution_count": null,
      "outputs": []
    },
    {
      "cell_type": "code",
      "source": [
        "model = tf.keras.Sequential([\n",
        "    tf.keras.layers.Input(shape=(4,)),\n",
        "    tf.keras.layers.Dense(64, activation='relu'),\n",
        "    tf.keras.layers.Dense(32, activation='relu'),\n",
        "    tf.keras.layers.Dense(3, activation='softmax')\n",
        "])\n",
        "\n",
        "model.compile(optimizer='adam', loss='sparse_categorical_crossentropy', metrics=['accuracy'])\n",
        "\n",
        "model.summary()\n"
      ],
      "metadata": {
        "colab": {
          "base_uri": "https://localhost:8080/"
        },
        "id": "nOphr5ks1apF",
        "outputId": "bb057e24-9a9f-4cbf-844c-39f6d599ac3d"
      },
      "execution_count": null,
      "outputs": [
        {
          "output_type": "stream",
          "name": "stdout",
          "text": [
            "Model: \"sequential\"\n",
            "_________________________________________________________________\n",
            " Layer (type)                Output Shape              Param #   \n",
            "=================================================================\n",
            " dense (Dense)               (None, 64)                320       \n",
            "                                                                 \n",
            " dense_1 (Dense)             (None, 32)                2080      \n",
            "                                                                 \n",
            " dense_2 (Dense)             (None, 3)                 99        \n",
            "                                                                 \n",
            "=================================================================\n",
            "Total params: 2499 (9.76 KB)\n",
            "Trainable params: 2499 (9.76 KB)\n",
            "Non-trainable params: 0 (0.00 Byte)\n",
            "_________________________________________________________________\n"
          ]
        }
      ]
    },
    {
      "cell_type": "code",
      "source": [
        "history = model.fit(X_train_scaled, y_train_encoded, epochs=50, batch_size=8, validation_split=0.1)\n"
      ],
      "metadata": {
        "colab": {
          "base_uri": "https://localhost:8080/"
        },
        "id": "ikCKYslC1a9j",
        "outputId": "8ac5a460-caaf-4191-909a-376532c83957"
      },
      "execution_count": null,
      "outputs": [
        {
          "output_type": "stream",
          "name": "stdout",
          "text": [
            "Epoch 1/50\n",
            "14/14 [==============================] - 1s 23ms/step - loss: 0.9048 - accuracy: 0.7593 - val_loss: 0.8530 - val_accuracy: 0.6667\n",
            "Epoch 2/50\n",
            "14/14 [==============================] - 0s 6ms/step - loss: 0.6901 - accuracy: 0.7963 - val_loss: 0.7184 - val_accuracy: 0.6667\n",
            "Epoch 3/50\n",
            "14/14 [==============================] - 0s 5ms/step - loss: 0.5458 - accuracy: 0.8056 - val_loss: 0.6225 - val_accuracy: 0.6667\n",
            "Epoch 4/50\n",
            "14/14 [==============================] - 0s 7ms/step - loss: 0.4532 - accuracy: 0.8148 - val_loss: 0.5560 - val_accuracy: 0.8333\n",
            "Epoch 5/50\n",
            "14/14 [==============================] - 0s 6ms/step - loss: 0.3953 - accuracy: 0.8148 - val_loss: 0.5182 - val_accuracy: 0.8333\n",
            "Epoch 6/50\n",
            "14/14 [==============================] - 0s 5ms/step - loss: 0.3545 - accuracy: 0.8241 - val_loss: 0.4814 - val_accuracy: 0.8333\n",
            "Epoch 7/50\n",
            "14/14 [==============================] - 0s 6ms/step - loss: 0.3277 - accuracy: 0.8333 - val_loss: 0.4585 - val_accuracy: 0.9167\n",
            "Epoch 8/50\n",
            "14/14 [==============================] - 0s 6ms/step - loss: 0.3017 - accuracy: 0.8426 - val_loss: 0.4368 - val_accuracy: 0.9167\n",
            "Epoch 9/50\n",
            "14/14 [==============================] - 0s 5ms/step - loss: 0.2782 - accuracy: 0.8796 - val_loss: 0.4160 - val_accuracy: 0.9167\n",
            "Epoch 10/50\n",
            "14/14 [==============================] - 0s 6ms/step - loss: 0.2587 - accuracy: 0.8889 - val_loss: 0.4001 - val_accuracy: 0.9167\n",
            "Epoch 11/50\n",
            "14/14 [==============================] - 0s 7ms/step - loss: 0.2420 - accuracy: 0.8981 - val_loss: 0.3868 - val_accuracy: 0.9167\n",
            "Epoch 12/50\n",
            "14/14 [==============================] - 0s 5ms/step - loss: 0.2214 - accuracy: 0.9537 - val_loss: 0.3881 - val_accuracy: 0.9167\n",
            "Epoch 13/50\n",
            "14/14 [==============================] - 0s 5ms/step - loss: 0.2100 - accuracy: 0.9630 - val_loss: 0.3715 - val_accuracy: 0.9167\n",
            "Epoch 14/50\n",
            "14/14 [==============================] - 0s 6ms/step - loss: 0.1869 - accuracy: 0.9630 - val_loss: 0.3350 - val_accuracy: 0.9167\n",
            "Epoch 15/50\n",
            "14/14 [==============================] - 0s 5ms/step - loss: 0.1768 - accuracy: 0.9444 - val_loss: 0.3282 - val_accuracy: 0.9167\n",
            "Epoch 16/50\n",
            "14/14 [==============================] - 0s 6ms/step - loss: 0.1622 - accuracy: 0.9537 - val_loss: 0.3366 - val_accuracy: 0.9167\n",
            "Epoch 17/50\n",
            "14/14 [==============================] - 0s 6ms/step - loss: 0.1545 - accuracy: 0.9537 - val_loss: 0.3287 - val_accuracy: 0.9167\n",
            "Epoch 18/50\n",
            "14/14 [==============================] - 0s 6ms/step - loss: 0.1439 - accuracy: 0.9537 - val_loss: 0.3097 - val_accuracy: 0.9167\n",
            "Epoch 19/50\n",
            "14/14 [==============================] - 0s 5ms/step - loss: 0.1324 - accuracy: 0.9537 - val_loss: 0.3120 - val_accuracy: 0.9167\n",
            "Epoch 20/50\n",
            "14/14 [==============================] - 0s 5ms/step - loss: 0.1275 - accuracy: 0.9537 - val_loss: 0.3154 - val_accuracy: 0.9167\n",
            "Epoch 21/50\n",
            "14/14 [==============================] - 0s 7ms/step - loss: 0.1149 - accuracy: 0.9537 - val_loss: 0.2950 - val_accuracy: 0.9167\n",
            "Epoch 22/50\n",
            "14/14 [==============================] - 0s 5ms/step - loss: 0.1127 - accuracy: 0.9537 - val_loss: 0.3163 - val_accuracy: 0.9167\n",
            "Epoch 23/50\n",
            "14/14 [==============================] - 0s 6ms/step - loss: 0.1043 - accuracy: 0.9537 - val_loss: 0.3039 - val_accuracy: 0.9167\n",
            "Epoch 24/50\n",
            "14/14 [==============================] - 0s 5ms/step - loss: 0.1042 - accuracy: 0.9630 - val_loss: 0.3060 - val_accuracy: 0.9167\n",
            "Epoch 25/50\n",
            "14/14 [==============================] - 0s 5ms/step - loss: 0.0963 - accuracy: 0.9630 - val_loss: 0.3191 - val_accuracy: 0.9167\n",
            "Epoch 26/50\n",
            "14/14 [==============================] - 0s 5ms/step - loss: 0.0923 - accuracy: 0.9722 - val_loss: 0.3072 - val_accuracy: 0.9167\n",
            "Epoch 27/50\n",
            "14/14 [==============================] - 0s 5ms/step - loss: 0.0920 - accuracy: 0.9630 - val_loss: 0.3226 - val_accuracy: 0.9167\n",
            "Epoch 28/50\n",
            "14/14 [==============================] - 0s 6ms/step - loss: 0.0931 - accuracy: 0.9630 - val_loss: 0.2851 - val_accuracy: 0.9167\n",
            "Epoch 29/50\n",
            "14/14 [==============================] - 0s 6ms/step - loss: 0.0848 - accuracy: 0.9722 - val_loss: 0.3256 - val_accuracy: 0.9167\n",
            "Epoch 30/50\n",
            "14/14 [==============================] - 0s 7ms/step - loss: 0.0884 - accuracy: 0.9630 - val_loss: 0.3217 - val_accuracy: 0.9167\n",
            "Epoch 31/50\n",
            "14/14 [==============================] - 0s 6ms/step - loss: 0.0803 - accuracy: 0.9630 - val_loss: 0.3281 - val_accuracy: 0.9167\n",
            "Epoch 32/50\n",
            "14/14 [==============================] - 0s 6ms/step - loss: 0.0807 - accuracy: 0.9722 - val_loss: 0.3212 - val_accuracy: 0.9167\n",
            "Epoch 33/50\n",
            "14/14 [==============================] - 0s 8ms/step - loss: 0.0740 - accuracy: 0.9722 - val_loss: 0.3414 - val_accuracy: 0.9167\n",
            "Epoch 34/50\n",
            "14/14 [==============================] - 0s 10ms/step - loss: 0.0731 - accuracy: 0.9722 - val_loss: 0.3445 - val_accuracy: 0.9167\n",
            "Epoch 35/50\n",
            "14/14 [==============================] - 0s 8ms/step - loss: 0.0706 - accuracy: 0.9722 - val_loss: 0.3442 - val_accuracy: 0.9167\n",
            "Epoch 36/50\n",
            "14/14 [==============================] - 0s 10ms/step - loss: 0.0707 - accuracy: 0.9722 - val_loss: 0.3169 - val_accuracy: 0.9167\n",
            "Epoch 37/50\n",
            "14/14 [==============================] - 0s 10ms/step - loss: 0.0679 - accuracy: 0.9722 - val_loss: 0.3425 - val_accuracy: 0.9167\n",
            "Epoch 38/50\n",
            "14/14 [==============================] - 0s 9ms/step - loss: 0.0696 - accuracy: 0.9815 - val_loss: 0.3443 - val_accuracy: 0.9167\n",
            "Epoch 39/50\n",
            "14/14 [==============================] - 0s 8ms/step - loss: 0.0637 - accuracy: 0.9722 - val_loss: 0.3205 - val_accuracy: 0.9167\n",
            "Epoch 40/50\n",
            "14/14 [==============================] - 0s 9ms/step - loss: 0.0698 - accuracy: 0.9722 - val_loss: 0.3276 - val_accuracy: 0.9167\n",
            "Epoch 41/50\n",
            "14/14 [==============================] - 0s 8ms/step - loss: 0.0626 - accuracy: 0.9722 - val_loss: 0.3522 - val_accuracy: 0.9167\n",
            "Epoch 42/50\n",
            "14/14 [==============================] - 0s 9ms/step - loss: 0.0650 - accuracy: 0.9722 - val_loss: 0.3631 - val_accuracy: 0.9167\n",
            "Epoch 43/50\n",
            "14/14 [==============================] - 0s 9ms/step - loss: 0.0627 - accuracy: 0.9815 - val_loss: 0.3770 - val_accuracy: 0.9167\n",
            "Epoch 44/50\n",
            "14/14 [==============================] - 0s 9ms/step - loss: 0.0647 - accuracy: 0.9722 - val_loss: 0.3546 - val_accuracy: 0.9167\n",
            "Epoch 45/50\n",
            "14/14 [==============================] - 0s 10ms/step - loss: 0.0636 - accuracy: 0.9722 - val_loss: 0.3693 - val_accuracy: 0.9167\n",
            "Epoch 46/50\n",
            "14/14 [==============================] - 0s 10ms/step - loss: 0.0592 - accuracy: 0.9907 - val_loss: 0.4066 - val_accuracy: 0.9167\n",
            "Epoch 47/50\n",
            "14/14 [==============================] - 0s 10ms/step - loss: 0.0597 - accuracy: 0.9815 - val_loss: 0.3896 - val_accuracy: 0.9167\n",
            "Epoch 48/50\n",
            "14/14 [==============================] - 0s 8ms/step - loss: 0.0546 - accuracy: 0.9815 - val_loss: 0.3427 - val_accuracy: 0.9167\n",
            "Epoch 49/50\n",
            "14/14 [==============================] - 0s 10ms/step - loss: 0.0586 - accuracy: 0.9722 - val_loss: 0.3696 - val_accuracy: 0.9167\n",
            "Epoch 50/50\n",
            "14/14 [==============================] - 0s 9ms/step - loss: 0.0573 - accuracy: 0.9815 - val_loss: 0.3805 - val_accuracy: 0.9167\n"
          ]
        }
      ]
    },
    {
      "cell_type": "code",
      "source": [
        "test_loss, test_accuracy = model.evaluate(X_test_scaled, y_test_encoded)\n",
        "print(f\"Test Loss: {test_loss}\")\n",
        "print(f\"Test Accuracy: {test_accuracy}\")\n"
      ],
      "metadata": {
        "colab": {
          "base_uri": "https://localhost:8080/"
        },
        "id": "gpKZ4J2P1bIn",
        "outputId": "1637f795-bd00-49c2-e417-a76eb99a298e"
      },
      "execution_count": null,
      "outputs": [
        {
          "output_type": "stream",
          "name": "stdout",
          "text": [
            "1/1 [==============================] - 0s 52ms/step - loss: 0.0459 - accuracy: 1.0000\n",
            "Test Loss: 0.04589543491601944\n",
            "Test Accuracy: 1.0\n"
          ]
        }
      ]
    },
    {
      "cell_type": "code",
      "source": [
        "predictions = model.predict(X_test_scaled)\n",
        "predicted_classes = np.argmax(predictions, axis=1)\n"
      ],
      "metadata": {
        "colab": {
          "base_uri": "https://localhost:8080/"
        },
        "id": "GbltCVA-1bSL",
        "outputId": "fddb31c3-03fc-40a5-f328-bdee62c88791"
      },
      "execution_count": null,
      "outputs": [
        {
          "output_type": "stream",
          "name": "stdout",
          "text": [
            "1/1 [==============================] - 0s 146ms/step\n"
          ]
        }
      ]
    },
    {
      "cell_type": "code",
      "source": [
        "import matplotlib.pyplot as plt\n",
        "\n",
        "plt.plot(history.history['accuracy'], label='accuracy')\n",
        "plt.plot(history.history['val_accuracy'], label = 'val_accuracy')\n",
        "plt.xlabel('Epoch')\n",
        "plt.ylabel('Accuracy')\n",
        "plt.legend(loc='lower right')\n",
        "plt.show()\n"
      ],
      "metadata": {
        "colab": {
          "base_uri": "https://localhost:8080/",
          "height": 449
        },
        "id": "asOcH2_S1cBP",
        "outputId": "8f44e568-6fc3-4f48-9a71-05a9ad7c1494"
      },
      "execution_count": null,
      "outputs": [
        {
          "output_type": "display_data",
          "data": {
            "text/plain": [
              "<Figure size 640x480 with 1 Axes>"
            ],
            "image/png": "[encoded data removed]"
          },
          "metadata": {}
        }
      ]
    }
  ]
}