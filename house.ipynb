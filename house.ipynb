{
  "nbformat": 4,
  "nbformat_minor": 0,
  "metadata": {
    "colab": {
      "provenance": [],
      "mount_file_id": "1oPMeO8sbn8HnQ6AR8k-zJ-D1AF5pjo9w",
      "authorship_tag": "ABX9TyOBkQJw2x3xTqk1E4C7/w6N",
      "include_colab_link": true
    },
    "kernelspec": {
      "name": "python3",
      "display_name": "Python 3"
    },
    "language_info": {
      "name": "python"
    }
  },
  "cells": [
    {
      "cell_type": "markdown",
      "metadata": {
        "id": "view-in-github",
        "colab_type": "text"
      },
      "source": [
        "<a href=\"https://colab.research.google.com/github/AshokPavi/Iris/blob/main/house.ipynb\" target=\"_parent\"><img src=\"https://colab.research.google.com/assets/colab-badge.svg\" alt=\"Open In Colab\"/></a>"
      ]
    },
    {
      "cell_type": "code",
      "source": [
        "import pandas as pd\n",
        "from sklearn.model_selection import train_test_split\n",
        "from sklearn.linear_model import LinearRegression\n",
        "from sklearn.metrics import mean_squared_error\n",
        "from sklearn.impute import SimpleImputer\n",
        "\n",
        "# Load the dataset\n",
        "data = pd.read_csv('/content/drive/MyDrive/test.csv')  # Assuming your dataset is in a CSV file named 'house_data.csv'\n",
        "\n",
        "# Preprocessing\n",
        "# Assuming 'size_units' and 'lot_size_units' are not significant for prediction, we can drop them\n",
        "data.drop(['size_units', 'lot_size_units', 'zip_code'], axis=1, inplace=True)\n",
        "\n",
        "# Handle missing values\n",
        "# Assuming we'll impute missing values with the mean of each column\n",
        "imputer = SimpleImputer(strategy='mean')\n",
        "data_imputed = pd.DataFrame(imputer.fit_transform(data), columns=data.columns)\n",
        "\n",
        "# Split data into features and target\n",
        "X = data_imputed.drop('price', axis=1)\n",
        "y = data_imputed['price']\n",
        "\n",
        "# Split data into train and test sets\n",
        "X_train, X_test, y_train, y_test = train_test_split(X, y, test_size=0.2, random_state=42)\n",
        "\n",
        "# Train the model\n",
        "model = LinearRegression()\n",
        "model.fit(X_train, y_train)\n",
        "\n",
        "# Predict on the test set\n",
        "y_pred = model.predict(X_test)\n",
        "\n",
        "# Evaluate the model\n",
        "mse = mean_squared_error(y_test, y_pred)\n",
        "print(\"Mean Squared Error:\", mse)\n",
        "\n",
        "# Example of predicting a new data point\n",
        "new_data = pd.DataFrame({\n",
        "    'beds': [3],\n",
        "    'baths': [2],\n",
        "    'size': [2000],\n",
        "    'lot_size': [5000]\n",
        "})\n",
        "predicted_price = model.predict(new_data)\n",
        "print(\"Predicted Price:\", predicted_price[0])"
      ],
      "metadata": {
        "colab": {
          "base_uri": "https://localhost:8080/"
        },
        "id": "CSJ7P1aEZfk6",
        "outputId": "58d6a9d6-11f9-44ef-a213-372c554a07d7"
      },
      "execution_count": 69,
      "outputs": [
        {
          "output_type": "stream",
          "name": "stdout",
          "text": [
            "Mean Squared Error: 97012884156.51286\n",
            "Predicted Price: 1002271.6545685255\n"
          ]
        }
      ]
    }
  ]
}